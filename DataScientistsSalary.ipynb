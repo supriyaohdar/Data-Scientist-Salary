{
  "nbformat": 4,
  "nbformat_minor": 0,
  "metadata": {
    "colab": {
      "name": "DataScientistsSalary.ipynb",
      "provenance": [],
      "collapsed_sections": [],
      "authorship_tag": "ABX9TyP7xpOEMtjtoDNpUBXJFAqW",
      "include_colab_link": true
    },
    "kernelspec": {
      "name": "python3",
      "display_name": "Python 3"
    },
    "language_info": {
      "name": "python"
    }
  },
  "cells": [
    {
      "cell_type": "markdown",
      "metadata": {
        "id": "view-in-github",
        "colab_type": "text"
      },
      "source": [
        "<a href=\"https://colab.research.google.com/github/supriyaohdar/Data-Scientist-Salary/blob/main/DataScientistsSalary.ipynb\" target=\"_parent\"><img src=\"https://colab.research.google.com/assets/colab-badge.svg\" alt=\"Open In Colab\"/></a>"
      ]
    },
    {
      "cell_type": "markdown",
      "metadata": {
        "id": "F3klV9cdrjMk"
      },
      "source": [
        "#Data Scientists Salary"
      ]
    },
    {
      "cell_type": "markdown",
      "metadata": {
        "id": "6uhp5bQwroHL"
      },
      "source": [
        "#Importing libraries"
      ]
    },
    {
      "cell_type": "code",
      "metadata": {
        "id": "6CpvFEQarYfo"
      },
      "source": [
        "import numpy as np\n",
        "import pandas as pd\n",
        "import matplotlib.pyplot as plt\n",
        "\n",
        "import warnings\n",
        "warnings.filterwarnings('ignore')"
      ],
      "execution_count": null,
      "outputs": []
    },
    {
      "cell_type": "markdown",
      "metadata": {
        "id": "KuCX9OgHr3lD"
      },
      "source": [
        "#Loading datasets"
      ]
    },
    {
      "cell_type": "code",
      "metadata": {
        "id": "rXo81-4Ur8rC"
      },
      "source": [
        "#from google.colab import files\n",
        "#uploaded= files.upload()"
      ],
      "execution_count": null,
      "outputs": []
    },
    {
      "cell_type": "markdown",
      "metadata": {
        "id": "FKXq_8XqsTbD"
      },
      "source": [
        "#Reading datasets"
      ]
    },
    {
      "cell_type": "code",
      "metadata": {
        "id": "7OUG-nfcsWpM"
      },
      "source": [
        "\n",
        "traindata=pd.read_csv(\"Final_Train_Dataset.csv\")\n",
        "testdata=pd.read_csv(\"Final_Test_Dataset.csv\")"
      ],
      "execution_count": null,
      "outputs": []
    },
    {
      "cell_type": "code",
      "metadata": {
        "colab": {
          "base_uri": "https://localhost:8080/",
          "height": 1000
        },
        "id": "uBqc_ouqsrwl",
        "outputId": "39bd14cd-4c71-4e3b-d28a-eb6df4b63ad0"
      },
      "source": [
        "traindata.head(20)"
      ],
      "execution_count": null,
      "outputs": [
        {
          "output_type": "execute_result",
          "data": {
            "text/html": [
              "<div>\n",
              "<style scoped>\n",
              "    .dataframe tbody tr th:only-of-type {\n",
              "        vertical-align: middle;\n",
              "    }\n",
              "\n",
              "    .dataframe tbody tr th {\n",
              "        vertical-align: top;\n",
              "    }\n",
              "\n",
              "    .dataframe thead th {\n",
              "        text-align: right;\n",
              "    }\n",
              "</style>\n",
              "<table border=\"1\" class=\"dataframe\">\n",
              "  <thead>\n",
              "    <tr style=\"text-align: right;\">\n",
              "      <th></th>\n",
              "      <th>Unnamed: 0</th>\n",
              "      <th>experience</th>\n",
              "      <th>job_description</th>\n",
              "      <th>job_desig</th>\n",
              "      <th>job_type</th>\n",
              "      <th>key_skills</th>\n",
              "      <th>location</th>\n",
              "      <th>salary</th>\n",
              "      <th>company_name_encoded</th>\n",
              "    </tr>\n",
              "  </thead>\n",
              "  <tbody>\n",
              "    <tr>\n",
              "      <th>0</th>\n",
              "      <td>0</td>\n",
              "      <td>5-7 yrs</td>\n",
              "      <td>Exp: Minimum 5 years;Good understanding of IOC...</td>\n",
              "      <td>Senior Exploit and Vulnerability Researcher</td>\n",
              "      <td>NaN</td>\n",
              "      <td>team skills, communication skills, analytical ...</td>\n",
              "      <td>Delhi NCR(Vikas Puri)</td>\n",
              "      <td>6to10</td>\n",
              "      <td>3687</td>\n",
              "    </tr>\n",
              "    <tr>\n",
              "      <th>1</th>\n",
              "      <td>1</td>\n",
              "      <td>10-17 yrs</td>\n",
              "      <td>He should have handled a team of atleast 5-6 d...</td>\n",
              "      <td>Head SCM</td>\n",
              "      <td>NaN</td>\n",
              "      <td>ppc, logistics, inventory management, supply c...</td>\n",
              "      <td>Sonepat</td>\n",
              "      <td>10to15</td>\n",
              "      <td>458</td>\n",
              "    </tr>\n",
              "    <tr>\n",
              "      <th>2</th>\n",
              "      <td>2</td>\n",
              "      <td>5-9 yrs</td>\n",
              "      <td>Must be an effective communicator (written &amp; s...</td>\n",
              "      <td>Deputy Manager - Talent Management &amp; Leadershi...</td>\n",
              "      <td>Analytics</td>\n",
              "      <td>HR Analytics, Employee Engagement, Training, S...</td>\n",
              "      <td>Delhi NCR</td>\n",
              "      <td>15to25</td>\n",
              "      <td>4195</td>\n",
              "    </tr>\n",
              "    <tr>\n",
              "      <th>3</th>\n",
              "      <td>3</td>\n",
              "      <td>7-10 yrs</td>\n",
              "      <td>7  -  10 years of overall experience in data e...</td>\n",
              "      <td>Associate Manager Data Engineering</td>\n",
              "      <td>Analytics</td>\n",
              "      <td>SQL, Javascript, Automation, Python, Ruby, Ana...</td>\n",
              "      <td>Bengaluru</td>\n",
              "      <td>10to15</td>\n",
              "      <td>313</td>\n",
              "    </tr>\n",
              "    <tr>\n",
              "      <th>4</th>\n",
              "      <td>4</td>\n",
              "      <td>1-3 yrs</td>\n",
              "      <td>Chartered Accountancy degree or MBA in Finance...</td>\n",
              "      <td>TS- GSA- Senior Analyst</td>\n",
              "      <td>NaN</td>\n",
              "      <td>accounting, finance, cash flow, financial plan...</td>\n",
              "      <td>Gurgaon</td>\n",
              "      <td>3to6</td>\n",
              "      <td>1305</td>\n",
              "    </tr>\n",
              "    <tr>\n",
              "      <th>5</th>\n",
              "      <td>5</td>\n",
              "      <td>5-10 yrs</td>\n",
              "      <td>4.\\tWillingness to travel;5.\\tExperience in Te...</td>\n",
              "      <td>Senior Trainer- Academics</td>\n",
              "      <td>NaN</td>\n",
              "      <td>academics, effective communication, teacher tr...</td>\n",
              "      <td>Noida</td>\n",
              "      <td>6to10</td>\n",
              "      <td>4428</td>\n",
              "    </tr>\n",
              "    <tr>\n",
              "      <th>6</th>\n",
              "      <td>6</td>\n",
              "      <td>13-15 yrs</td>\n",
              "      <td>- Experience in managing fraud analytics with ...</td>\n",
              "      <td>Associate Vice President - Fraud Analytics - S...</td>\n",
              "      <td>Analytics</td>\n",
              "      <td>Fraud Analytics, People Management Skills, Tea...</td>\n",
              "      <td>Delhi NCR</td>\n",
              "      <td>25to50</td>\n",
              "      <td>1988</td>\n",
              "    </tr>\n",
              "    <tr>\n",
              "      <th>7</th>\n",
              "      <td>7</td>\n",
              "      <td>6-10 yrs</td>\n",
              "      <td>Qualified Chartered Accountant with 1-3 yrs of...</td>\n",
              "      <td>Manager - Internal Audit - CA - Big4</td>\n",
              "      <td>NaN</td>\n",
              "      <td>Accounting, Internal Audit, Auditing, Enterpri...</td>\n",
              "      <td>Pune</td>\n",
              "      <td>6to10</td>\n",
              "      <td>1793</td>\n",
              "    </tr>\n",
              "    <tr>\n",
              "      <th>8</th>\n",
              "      <td>8</td>\n",
              "      <td>1-3 yrs</td>\n",
              "      <td>Proven experience as payroll executive or spec...</td>\n",
              "      <td>Payroll Executive</td>\n",
              "      <td>NaN</td>\n",
              "      <td>esic, hr, bonus, pf, tds, payroll, superannuat...</td>\n",
              "      <td>Ahmedabad(Bodakdev)</td>\n",
              "      <td>0to3</td>\n",
              "      <td>3398</td>\n",
              "    </tr>\n",
              "    <tr>\n",
              "      <th>9</th>\n",
              "      <td>9</td>\n",
              "      <td>2-6 yrs</td>\n",
              "      <td>Other activities as may be required over the p...</td>\n",
              "      <td>Required CA (manager Finance) for R&amp;R Salons P...</td>\n",
              "      <td>NaN</td>\n",
              "      <td>accounting standards, finance, auditing, finan...</td>\n",
              "      <td>Bengaluru(Kodihalli)</td>\n",
              "      <td>15to25</td>\n",
              "      <td>3444</td>\n",
              "    </tr>\n",
              "    <tr>\n",
              "      <th>10</th>\n",
              "      <td>10</td>\n",
              "      <td>3-7 yrs</td>\n",
              "      <td>Manage large volumes of structured and unstruc...</td>\n",
              "      <td>Business Analyst</td>\n",
              "      <td>NaN</td>\n",
              "      <td>Test Data, Data Science, Business Analysis, Ma...</td>\n",
              "      <td>Mohali</td>\n",
              "      <td>6to10</td>\n",
              "      <td>3492</td>\n",
              "    </tr>\n",
              "    <tr>\n",
              "      <th>11</th>\n",
              "      <td>11</td>\n",
              "      <td>10-12 yrs</td>\n",
              "      <td>- Experience in Credit card/ banking domain wi...</td>\n",
              "      <td>Senior AVP - Model Development - Bank - IIM/ M...</td>\n",
              "      <td>Analytics</td>\n",
              "      <td>Banking, Model Development, Analytics, People ...</td>\n",
              "      <td>Delhi NCR, Gurgaon</td>\n",
              "      <td>10to15</td>\n",
              "      <td>1969</td>\n",
              "    </tr>\n",
              "    <tr>\n",
              "      <th>12</th>\n",
              "      <td>12</td>\n",
              "      <td>2-6 yrs</td>\n",
              "      <td>3+ years of software development experience;Le...</td>\n",
              "      <td>Sales and Marketing Data Analyst - Data Analytics</td>\n",
              "      <td>Analytics</td>\n",
              "      <td>Marketing Automation, Sales, Salesforce, Eloqu...</td>\n",
              "      <td>Pune(Kharadi)</td>\n",
              "      <td>10to15</td>\n",
              "      <td>3692</td>\n",
              "    </tr>\n",
              "    <tr>\n",
              "      <th>13</th>\n",
              "      <td>13</td>\n",
              "      <td>2-4 yrs</td>\n",
              "      <td>- Knowledge of big data concepts and hands-on ...</td>\n",
              "      <td>Analytics Specialist - Data Science &amp; Big Data</td>\n",
              "      <td>Analytics</td>\n",
              "      <td>Data Science, Machine Learning, R, Big Data, P...</td>\n",
              "      <td>Mumbai</td>\n",
              "      <td>6to10</td>\n",
              "      <td>4479</td>\n",
              "    </tr>\n",
              "    <tr>\n",
              "      <th>14</th>\n",
              "      <td>14</td>\n",
              "      <td>1-6 yrs</td>\n",
              "      <td>Job Responsibilities:   \\tFinalization of Annu...</td>\n",
              "      <td>Manager / Assistant Manager- FP &amp;A</td>\n",
              "      <td>NaN</td>\n",
              "      <td>Budgeting, Variance Analysis, Forecasting, Capex</td>\n",
              "      <td>Gurgaon</td>\n",
              "      <td>10to15</td>\n",
              "      <td>2127</td>\n",
              "    </tr>\n",
              "    <tr>\n",
              "      <th>15</th>\n",
              "      <td>15</td>\n",
              "      <td>3-6 yrs</td>\n",
              "      <td>- Masters/ MS in computer science or other qua...</td>\n",
              "      <td>NLP &amp; Semantic Specialist - Java/j2ee</td>\n",
              "      <td>NaN</td>\n",
              "      <td>Spring, Core Java, J2Ee, Hibernate, Javascript...</td>\n",
              "      <td>Gurgaon, Gurugram</td>\n",
              "      <td>10to15</td>\n",
              "      <td>2914</td>\n",
              "    </tr>\n",
              "    <tr>\n",
              "      <th>16</th>\n",
              "      <td>16</td>\n",
              "      <td>5-8 yrs</td>\n",
              "      <td>- 2+ years of hands-on experience with the Had...</td>\n",
              "      <td>Hadoop Developer - Rdbms/netezza/oracle</td>\n",
              "      <td>NaN</td>\n",
              "      <td>Hadoop, HBase, Digital Marketing, Netezza, Uni...</td>\n",
              "      <td>Bengaluru</td>\n",
              "      <td>6to10</td>\n",
              "      <td>3998</td>\n",
              "    </tr>\n",
              "    <tr>\n",
              "      <th>17</th>\n",
              "      <td>17</td>\n",
              "      <td>3-6 yrs</td>\n",
              "      <td>3+ years experience performing financial and a...</td>\n",
              "      <td>Business Finance Partner</td>\n",
              "      <td>NaN</td>\n",
              "      <td>Business Finance, Financial Control, Business ...</td>\n",
              "      <td>Bengaluru</td>\n",
              "      <td>10to15</td>\n",
              "      <td>1548</td>\n",
              "    </tr>\n",
              "    <tr>\n",
              "      <th>18</th>\n",
              "      <td>18</td>\n",
              "      <td>4-9 yrs</td>\n",
              "      <td>- Work with various stake holders and understa...</td>\n",
              "      <td>Data Scientist - Ecommerce</td>\n",
              "      <td>NaN</td>\n",
              "      <td>Information Retrieval, Hadoop, Hive, Spark, Ma...</td>\n",
              "      <td>Bengaluru</td>\n",
              "      <td>15to25</td>\n",
              "      <td>2401</td>\n",
              "    </tr>\n",
              "    <tr>\n",
              "      <th>19</th>\n",
              "      <td>19</td>\n",
              "      <td>3-5 yrs</td>\n",
              "      <td>Experience in managing and running campaigns o...</td>\n",
              "      <td>Digital Marketing Role</td>\n",
              "      <td>NaN</td>\n",
              "      <td>Digital Marketing, Google Adwords, marketing, ...</td>\n",
              "      <td>Bengaluru</td>\n",
              "      <td>6to10</td>\n",
              "      <td>4554</td>\n",
              "    </tr>\n",
              "  </tbody>\n",
              "</table>\n",
              "</div>"
            ],
            "text/plain": [
              "    Unnamed: 0 experience  ...  salary company_name_encoded\n",
              "0            0    5-7 yrs  ...   6to10                 3687\n",
              "1            1  10-17 yrs  ...  10to15                  458\n",
              "2            2    5-9 yrs  ...  15to25                 4195\n",
              "3            3   7-10 yrs  ...  10to15                  313\n",
              "4            4    1-3 yrs  ...    3to6                 1305\n",
              "5            5   5-10 yrs  ...   6to10                 4428\n",
              "6            6  13-15 yrs  ...  25to50                 1988\n",
              "7            7   6-10 yrs  ...   6to10                 1793\n",
              "8            8    1-3 yrs  ...    0to3                 3398\n",
              "9            9    2-6 yrs  ...  15to25                 3444\n",
              "10          10    3-7 yrs  ...   6to10                 3492\n",
              "11          11  10-12 yrs  ...  10to15                 1969\n",
              "12          12    2-6 yrs  ...  10to15                 3692\n",
              "13          13    2-4 yrs  ...   6to10                 4479\n",
              "14          14    1-6 yrs  ...  10to15                 2127\n",
              "15          15    3-6 yrs  ...  10to15                 2914\n",
              "16          16    5-8 yrs  ...   6to10                 3998\n",
              "17          17    3-6 yrs  ...  10to15                 1548\n",
              "18          18    4-9 yrs  ...  15to25                 2401\n",
              "19          19    3-5 yrs  ...   6to10                 4554\n",
              "\n",
              "[20 rows x 9 columns]"
            ]
          },
          "metadata": {
            "tags": []
          },
          "execution_count": 850
        }
      ]
    },
    {
      "cell_type": "code",
      "metadata": {
        "colab": {
          "base_uri": "https://localhost:8080/",
          "height": 589
        },
        "id": "iv4ywX_5svFb",
        "outputId": "306f06ec-b1a1-4e14-9504-cd01f9ec3e62"
      },
      "source": [
        "testdata"
      ],
      "execution_count": null,
      "outputs": [
        {
          "output_type": "execute_result",
          "data": {
            "text/html": [
              "<div>\n",
              "<style scoped>\n",
              "    .dataframe tbody tr th:only-of-type {\n",
              "        vertical-align: middle;\n",
              "    }\n",
              "\n",
              "    .dataframe tbody tr th {\n",
              "        vertical-align: top;\n",
              "    }\n",
              "\n",
              "    .dataframe thead th {\n",
              "        text-align: right;\n",
              "    }\n",
              "</style>\n",
              "<table border=\"1\" class=\"dataframe\">\n",
              "  <thead>\n",
              "    <tr style=\"text-align: right;\">\n",
              "      <th></th>\n",
              "      <th>experience</th>\n",
              "      <th>job_description</th>\n",
              "      <th>job_desig</th>\n",
              "      <th>job_type</th>\n",
              "      <th>key_skills</th>\n",
              "      <th>location</th>\n",
              "      <th>company_name_encoded</th>\n",
              "    </tr>\n",
              "  </thead>\n",
              "  <tbody>\n",
              "    <tr>\n",
              "      <th>0</th>\n",
              "      <td>7-12 yrs</td>\n",
              "      <td>Professional experience in Java/J2EE based ser...</td>\n",
              "      <td>IT Technology Senior Consultant/java/ J2ee/ Se...</td>\n",
              "      <td>NaN</td>\n",
              "      <td>Java, J2Ee, Tomcat, JBoss, Weblogic, Oracle, E...</td>\n",
              "      <td>Bengaluru</td>\n",
              "      <td>2066</td>\n",
              "    </tr>\n",
              "    <tr>\n",
              "      <th>1</th>\n",
              "      <td>0-5 yrs</td>\n",
              "      <td>We are looking for 20+ Fresher/Experienced Can...</td>\n",
              "      <td>Medical Billing Process | International KPO | ...</td>\n",
              "      <td>NaN</td>\n",
              "      <td>Medical Billing, Insurance Processing</td>\n",
              "      <td>Ahmedabad(Sola)</td>\n",
              "      <td>2629</td>\n",
              "    </tr>\n",
              "    <tr>\n",
              "      <th>2</th>\n",
              "      <td>3-6 yrs</td>\n",
              "      <td>Should understand overall integration framewor...</td>\n",
              "      <td>Oracle Sales Cloud Functional Consultant</td>\n",
              "      <td>NaN</td>\n",
              "      <td>Oracle Sales, Functional Consultancy, Troubles...</td>\n",
              "      <td>Bengaluru</td>\n",
              "      <td>2448</td>\n",
              "    </tr>\n",
              "    <tr>\n",
              "      <th>3</th>\n",
              "      <td>0-3 yrs</td>\n",
              "      <td>NaN</td>\n",
              "      <td>Looking For Freshers WHO WANT To Work WITH US</td>\n",
              "      <td>NaN</td>\n",
              "      <td>offline, online, internet, part time, home bas...</td>\n",
              "      <td>Delhi NCR, Chennai, Hyderabad, Gurgaon, Luckno...</td>\n",
              "      <td>2711</td>\n",
              "    </tr>\n",
              "    <tr>\n",
              "      <th>4</th>\n",
              "      <td>0-5 yrs</td>\n",
              "      <td>NaN</td>\n",
              "      <td>Process Associate / Sr Process Associate / Tec...</td>\n",
              "      <td>NaN</td>\n",
              "      <td>voice support, analytical skills, Process asso...</td>\n",
              "      <td>Hyderabad</td>\n",
              "      <td>40</td>\n",
              "    </tr>\n",
              "    <tr>\n",
              "      <th>...</th>\n",
              "      <td>...</td>\n",
              "      <td>...</td>\n",
              "      <td>...</td>\n",
              "      <td>...</td>\n",
              "      <td>...</td>\n",
              "      <td>...</td>\n",
              "      <td>...</td>\n",
              "    </tr>\n",
              "    <tr>\n",
              "      <th>6596</th>\n",
              "      <td>4-7 yrs</td>\n",
              "      <td>2-9 years experience in full Implementation Li...</td>\n",
              "      <td>Business Analyst - Implementation (p2p/s2p/erp...</td>\n",
              "      <td>NaN</td>\n",
              "      <td>UAT, Procurement, Case Studies, Life Cycle, Bu...</td>\n",
              "      <td>Mumbai</td>\n",
              "      <td>2692</td>\n",
              "    </tr>\n",
              "    <tr>\n",
              "      <th>6597</th>\n",
              "      <td>1-5 yrs</td>\n",
              "      <td>NaN</td>\n",
              "      <td>SAP Basis Administration</td>\n",
              "      <td>NaN</td>\n",
              "      <td>CRM, SCM, SRM, Computer science, Business proc...</td>\n",
              "      <td>Gurgaon</td>\n",
              "      <td>104</td>\n",
              "    </tr>\n",
              "    <tr>\n",
              "      <th>6598</th>\n",
              "      <td>5-10 yrs</td>\n",
              "      <td>- 5- 11yrs of experience in the below skills;-...</td>\n",
              "      <td>Apps Store Developer &amp; Lead - Android/ios/ovi ...</td>\n",
              "      <td>NaN</td>\n",
              "      <td>android, ios, communication skills, Apps Store...</td>\n",
              "      <td>Mumbai</td>\n",
              "      <td>2025</td>\n",
              "    </tr>\n",
              "    <tr>\n",
              "      <th>6599</th>\n",
              "      <td>7-12 yrs</td>\n",
              "      <td>stimuli articles) or in peer- reviewed journal...</td>\n",
              "      <td>Associate Scientific Liasion / Scientific Liasion</td>\n",
              "      <td>NaN</td>\n",
              "      <td>Biochemistry, Chromatography, Spectroscopy, An...</td>\n",
              "      <td>Hyderabad</td>\n",
              "      <td>2512</td>\n",
              "    </tr>\n",
              "    <tr>\n",
              "      <th>6600</th>\n",
              "      <td>3-8 yrs</td>\n",
              "      <td>3 + years of experience designing, developing ...</td>\n",
              "      <td>Webmethods Developer</td>\n",
              "      <td>NaN</td>\n",
              "      <td>Waterfall, Business Analysis, System Integrati...</td>\n",
              "      <td>Bengaluru</td>\n",
              "      <td>464</td>\n",
              "    </tr>\n",
              "  </tbody>\n",
              "</table>\n",
              "<p>6601 rows × 7 columns</p>\n",
              "</div>"
            ],
            "text/plain": [
              "     experience  ... company_name_encoded\n",
              "0      7-12 yrs  ...                 2066\n",
              "1       0-5 yrs  ...                 2629\n",
              "2       3-6 yrs  ...                 2448\n",
              "3       0-3 yrs  ...                 2711\n",
              "4       0-5 yrs  ...                   40\n",
              "...         ...  ...                  ...\n",
              "6596    4-7 yrs  ...                 2692\n",
              "6597    1-5 yrs  ...                  104\n",
              "6598   5-10 yrs  ...                 2025\n",
              "6599   7-12 yrs  ...                 2512\n",
              "6600    3-8 yrs  ...                  464\n",
              "\n",
              "[6601 rows x 7 columns]"
            ]
          },
          "metadata": {
            "tags": []
          },
          "execution_count": 851
        }
      ]
    },
    {
      "cell_type": "markdown",
      "metadata": {
        "id": "0M71hHJxvWSy"
      },
      "source": [
        "#Exploratory Data Analysis"
      ]
    },
    {
      "cell_type": "code",
      "metadata": {
        "colab": {
          "base_uri": "https://localhost:8080/"
        },
        "id": "i1rz_foJvV8k",
        "outputId": "62350667-5cfe-45ab-e078-cd28c18c74fd"
      },
      "source": [
        "traindata.shape"
      ],
      "execution_count": null,
      "outputs": [
        {
          "output_type": "execute_result",
          "data": {
            "text/plain": [
              "(19802, 9)"
            ]
          },
          "metadata": {
            "tags": []
          },
          "execution_count": 852
        }
      ]
    },
    {
      "cell_type": "code",
      "metadata": {
        "colab": {
          "base_uri": "https://localhost:8080/"
        },
        "id": "-nbyeLwvvgEr",
        "outputId": "a4de75b0-0cf4-46bc-e692-fd896aebe689"
      },
      "source": [
        "testdata.shape"
      ],
      "execution_count": null,
      "outputs": [
        {
          "output_type": "execute_result",
          "data": {
            "text/plain": [
              "(6601, 7)"
            ]
          },
          "metadata": {
            "tags": []
          },
          "execution_count": 853
        }
      ]
    },
    {
      "cell_type": "code",
      "metadata": {
        "colab": {
          "base_uri": "https://localhost:8080/"
        },
        "id": "vlQOu5-5viaS",
        "outputId": "f57b512a-bc61-4fcc-b42e-e988272b2b01"
      },
      "source": [
        "traindata.dtypes"
      ],
      "execution_count": null,
      "outputs": [
        {
          "output_type": "execute_result",
          "data": {
            "text/plain": [
              "Unnamed: 0               int64\n",
              "experience              object\n",
              "job_description         object\n",
              "job_desig               object\n",
              "job_type                object\n",
              "key_skills              object\n",
              "location                object\n",
              "salary                  object\n",
              "company_name_encoded     int64\n",
              "dtype: object"
            ]
          },
          "metadata": {
            "tags": []
          },
          "execution_count": 854
        }
      ]
    },
    {
      "cell_type": "code",
      "metadata": {
        "colab": {
          "base_uri": "https://localhost:8080/"
        },
        "id": "g6sJDlZNwX0K",
        "outputId": "93ae8c3e-4a33-4b7a-d46f-01f73db8d3bb"
      },
      "source": [
        "testdata.dtypes"
      ],
      "execution_count": null,
      "outputs": [
        {
          "output_type": "execute_result",
          "data": {
            "text/plain": [
              "experience              object\n",
              "job_description         object\n",
              "job_desig               object\n",
              "job_type                object\n",
              "key_skills              object\n",
              "location                object\n",
              "company_name_encoded     int64\n",
              "dtype: object"
            ]
          },
          "metadata": {
            "tags": []
          },
          "execution_count": 855
        }
      ]
    },
    {
      "cell_type": "code",
      "metadata": {
        "colab": {
          "base_uri": "https://localhost:8080/",
          "height": 407
        },
        "id": "AW8p36Ykwk9h",
        "outputId": "59357db1-fec9-4ba7-b813-cf8053c03cff"
      },
      "source": [
        "traindata.describe(include='all')"
      ],
      "execution_count": null,
      "outputs": [
        {
          "output_type": "execute_result",
          "data": {
            "text/html": [
              "<div>\n",
              "<style scoped>\n",
              "    .dataframe tbody tr th:only-of-type {\n",
              "        vertical-align: middle;\n",
              "    }\n",
              "\n",
              "    .dataframe tbody tr th {\n",
              "        vertical-align: top;\n",
              "    }\n",
              "\n",
              "    .dataframe thead th {\n",
              "        text-align: right;\n",
              "    }\n",
              "</style>\n",
              "<table border=\"1\" class=\"dataframe\">\n",
              "  <thead>\n",
              "    <tr style=\"text-align: right;\">\n",
              "      <th></th>\n",
              "      <th>Unnamed: 0</th>\n",
              "      <th>experience</th>\n",
              "      <th>job_description</th>\n",
              "      <th>job_desig</th>\n",
              "      <th>job_type</th>\n",
              "      <th>key_skills</th>\n",
              "      <th>location</th>\n",
              "      <th>salary</th>\n",
              "      <th>company_name_encoded</th>\n",
              "    </tr>\n",
              "  </thead>\n",
              "  <tbody>\n",
              "    <tr>\n",
              "      <th>count</th>\n",
              "      <td>19802.000000</td>\n",
              "      <td>19802</td>\n",
              "      <td>15384</td>\n",
              "      <td>19802</td>\n",
              "      <td>4797</td>\n",
              "      <td>19801</td>\n",
              "      <td>19802</td>\n",
              "      <td>19802</td>\n",
              "      <td>19802.000000</td>\n",
              "    </tr>\n",
              "    <tr>\n",
              "      <th>unique</th>\n",
              "      <td>NaN</td>\n",
              "      <td>129</td>\n",
              "      <td>9059</td>\n",
              "      <td>11708</td>\n",
              "      <td>5</td>\n",
              "      <td>12951</td>\n",
              "      <td>1504</td>\n",
              "      <td>6</td>\n",
              "      <td>NaN</td>\n",
              "    </tr>\n",
              "    <tr>\n",
              "      <th>top</th>\n",
              "      <td>NaN</td>\n",
              "      <td>5-10 yrs</td>\n",
              "      <td>Accenture Technology powers our clients busine...</td>\n",
              "      <td>Business Analyst</td>\n",
              "      <td>Analytics</td>\n",
              "      <td>part time, freelancing, data entry, present jo...</td>\n",
              "      <td>Bengaluru</td>\n",
              "      <td>10to15</td>\n",
              "      <td>NaN</td>\n",
              "    </tr>\n",
              "    <tr>\n",
              "      <th>freq</th>\n",
              "      <td>NaN</td>\n",
              "      <td>1274</td>\n",
              "      <td>144</td>\n",
              "      <td>148</td>\n",
              "      <td>3747</td>\n",
              "      <td>84</td>\n",
              "      <td>4168</td>\n",
              "      <td>4500</td>\n",
              "      <td>NaN</td>\n",
              "    </tr>\n",
              "    <tr>\n",
              "      <th>mean</th>\n",
              "      <td>9900.500000</td>\n",
              "      <td>NaN</td>\n",
              "      <td>NaN</td>\n",
              "      <td>NaN</td>\n",
              "      <td>NaN</td>\n",
              "      <td>NaN</td>\n",
              "      <td>NaN</td>\n",
              "      <td>NaN</td>\n",
              "      <td>2379.723866</td>\n",
              "    </tr>\n",
              "    <tr>\n",
              "      <th>std</th>\n",
              "      <td>5716.489351</td>\n",
              "      <td>NaN</td>\n",
              "      <td>NaN</td>\n",
              "      <td>NaN</td>\n",
              "      <td>NaN</td>\n",
              "      <td>NaN</td>\n",
              "      <td>NaN</td>\n",
              "      <td>NaN</td>\n",
              "      <td>1475.342341</td>\n",
              "    </tr>\n",
              "    <tr>\n",
              "      <th>min</th>\n",
              "      <td>0.000000</td>\n",
              "      <td>NaN</td>\n",
              "      <td>NaN</td>\n",
              "      <td>NaN</td>\n",
              "      <td>NaN</td>\n",
              "      <td>NaN</td>\n",
              "      <td>NaN</td>\n",
              "      <td>NaN</td>\n",
              "      <td>0.000000</td>\n",
              "    </tr>\n",
              "    <tr>\n",
              "      <th>25%</th>\n",
              "      <td>4950.250000</td>\n",
              "      <td>NaN</td>\n",
              "      <td>NaN</td>\n",
              "      <td>NaN</td>\n",
              "      <td>NaN</td>\n",
              "      <td>NaN</td>\n",
              "      <td>NaN</td>\n",
              "      <td>NaN</td>\n",
              "      <td>1067.000000</td>\n",
              "    </tr>\n",
              "    <tr>\n",
              "      <th>50%</th>\n",
              "      <td>9900.500000</td>\n",
              "      <td>NaN</td>\n",
              "      <td>NaN</td>\n",
              "      <td>NaN</td>\n",
              "      <td>NaN</td>\n",
              "      <td>NaN</td>\n",
              "      <td>NaN</td>\n",
              "      <td>NaN</td>\n",
              "      <td>2225.000000</td>\n",
              "    </tr>\n",
              "    <tr>\n",
              "      <th>75%</th>\n",
              "      <td>14850.750000</td>\n",
              "      <td>NaN</td>\n",
              "      <td>NaN</td>\n",
              "      <td>NaN</td>\n",
              "      <td>NaN</td>\n",
              "      <td>NaN</td>\n",
              "      <td>NaN</td>\n",
              "      <td>NaN</td>\n",
              "      <td>3621.000000</td>\n",
              "    </tr>\n",
              "    <tr>\n",
              "      <th>max</th>\n",
              "      <td>19801.000000</td>\n",
              "      <td>NaN</td>\n",
              "      <td>NaN</td>\n",
              "      <td>NaN</td>\n",
              "      <td>NaN</td>\n",
              "      <td>NaN</td>\n",
              "      <td>NaN</td>\n",
              "      <td>NaN</td>\n",
              "      <td>5034.000000</td>\n",
              "    </tr>\n",
              "  </tbody>\n",
              "</table>\n",
              "</div>"
            ],
            "text/plain": [
              "          Unnamed: 0 experience  ...  salary company_name_encoded\n",
              "count   19802.000000      19802  ...   19802         19802.000000\n",
              "unique           NaN        129  ...       6                  NaN\n",
              "top              NaN   5-10 yrs  ...  10to15                  NaN\n",
              "freq             NaN       1274  ...    4500                  NaN\n",
              "mean     9900.500000        NaN  ...     NaN          2379.723866\n",
              "std      5716.489351        NaN  ...     NaN          1475.342341\n",
              "min         0.000000        NaN  ...     NaN             0.000000\n",
              "25%      4950.250000        NaN  ...     NaN          1067.000000\n",
              "50%      9900.500000        NaN  ...     NaN          2225.000000\n",
              "75%     14850.750000        NaN  ...     NaN          3621.000000\n",
              "max     19801.000000        NaN  ...     NaN          5034.000000\n",
              "\n",
              "[11 rows x 9 columns]"
            ]
          },
          "metadata": {
            "tags": []
          },
          "execution_count": 856
        }
      ]
    },
    {
      "cell_type": "code",
      "metadata": {
        "colab": {
          "base_uri": "https://localhost:8080/",
          "height": 390
        },
        "id": "V1m8wcDHw6bM",
        "outputId": "a51ebf94-03a1-4129-d49b-b4b6b922a915"
      },
      "source": [
        "testdata.describe(include='all')"
      ],
      "execution_count": null,
      "outputs": [
        {
          "output_type": "execute_result",
          "data": {
            "text/html": [
              "<div>\n",
              "<style scoped>\n",
              "    .dataframe tbody tr th:only-of-type {\n",
              "        vertical-align: middle;\n",
              "    }\n",
              "\n",
              "    .dataframe tbody tr th {\n",
              "        vertical-align: top;\n",
              "    }\n",
              "\n",
              "    .dataframe thead th {\n",
              "        text-align: right;\n",
              "    }\n",
              "</style>\n",
              "<table border=\"1\" class=\"dataframe\">\n",
              "  <thead>\n",
              "    <tr style=\"text-align: right;\">\n",
              "      <th></th>\n",
              "      <th>experience</th>\n",
              "      <th>job_description</th>\n",
              "      <th>job_desig</th>\n",
              "      <th>job_type</th>\n",
              "      <th>key_skills</th>\n",
              "      <th>location</th>\n",
              "      <th>company_name_encoded</th>\n",
              "    </tr>\n",
              "  </thead>\n",
              "  <tbody>\n",
              "    <tr>\n",
              "      <th>count</th>\n",
              "      <td>6601</td>\n",
              "      <td>5079</td>\n",
              "      <td>6601</td>\n",
              "      <td>1637</td>\n",
              "      <td>6601</td>\n",
              "      <td>6601</td>\n",
              "      <td>6601.000000</td>\n",
              "    </tr>\n",
              "    <tr>\n",
              "      <th>unique</th>\n",
              "      <td>110</td>\n",
              "      <td>4064</td>\n",
              "      <td>5135</td>\n",
              "      <td>5</td>\n",
              "      <td>5589</td>\n",
              "      <td>803</td>\n",
              "      <td>NaN</td>\n",
              "    </tr>\n",
              "    <tr>\n",
              "      <th>top</th>\n",
              "      <td>5-10 yrs</td>\n",
              "      <td>Accenture Technology powers our clients busine...</td>\n",
              "      <td>Business Analyst</td>\n",
              "      <td>Analytics</td>\n",
              "      <td>part time, freelancing, data entry, present jo...</td>\n",
              "      <td>Bengaluru</td>\n",
              "      <td>NaN</td>\n",
              "    </tr>\n",
              "    <tr>\n",
              "      <th>freq</th>\n",
              "      <td>419</td>\n",
              "      <td>46</td>\n",
              "      <td>56</td>\n",
              "      <td>1286</td>\n",
              "      <td>23</td>\n",
              "      <td>1361</td>\n",
              "      <td>NaN</td>\n",
              "    </tr>\n",
              "    <tr>\n",
              "      <th>mean</th>\n",
              "      <td>NaN</td>\n",
              "      <td>NaN</td>\n",
              "      <td>NaN</td>\n",
              "      <td>NaN</td>\n",
              "      <td>NaN</td>\n",
              "      <td>NaN</td>\n",
              "      <td>1319.330707</td>\n",
              "    </tr>\n",
              "    <tr>\n",
              "      <th>std</th>\n",
              "      <td>NaN</td>\n",
              "      <td>NaN</td>\n",
              "      <td>NaN</td>\n",
              "      <td>NaN</td>\n",
              "      <td>NaN</td>\n",
              "      <td>NaN</td>\n",
              "      <td>808.158350</td>\n",
              "    </tr>\n",
              "    <tr>\n",
              "      <th>min</th>\n",
              "      <td>NaN</td>\n",
              "      <td>NaN</td>\n",
              "      <td>NaN</td>\n",
              "      <td>NaN</td>\n",
              "      <td>NaN</td>\n",
              "      <td>NaN</td>\n",
              "      <td>0.000000</td>\n",
              "    </tr>\n",
              "    <tr>\n",
              "      <th>25%</th>\n",
              "      <td>NaN</td>\n",
              "      <td>NaN</td>\n",
              "      <td>NaN</td>\n",
              "      <td>NaN</td>\n",
              "      <td>NaN</td>\n",
              "      <td>NaN</td>\n",
              "      <td>611.000000</td>\n",
              "    </tr>\n",
              "    <tr>\n",
              "      <th>50%</th>\n",
              "      <td>NaN</td>\n",
              "      <td>NaN</td>\n",
              "      <td>NaN</td>\n",
              "      <td>NaN</td>\n",
              "      <td>NaN</td>\n",
              "      <td>NaN</td>\n",
              "      <td>1250.000000</td>\n",
              "    </tr>\n",
              "    <tr>\n",
              "      <th>75%</th>\n",
              "      <td>NaN</td>\n",
              "      <td>NaN</td>\n",
              "      <td>NaN</td>\n",
              "      <td>NaN</td>\n",
              "      <td>NaN</td>\n",
              "      <td>NaN</td>\n",
              "      <td>2025.000000</td>\n",
              "    </tr>\n",
              "    <tr>\n",
              "      <th>max</th>\n",
              "      <td>NaN</td>\n",
              "      <td>NaN</td>\n",
              "      <td>NaN</td>\n",
              "      <td>NaN</td>\n",
              "      <td>NaN</td>\n",
              "      <td>NaN</td>\n",
              "      <td>2751.000000</td>\n",
              "    </tr>\n",
              "  </tbody>\n",
              "</table>\n",
              "</div>"
            ],
            "text/plain": [
              "       experience  ... company_name_encoded\n",
              "count        6601  ...          6601.000000\n",
              "unique        110  ...                  NaN\n",
              "top      5-10 yrs  ...                  NaN\n",
              "freq          419  ...                  NaN\n",
              "mean          NaN  ...          1319.330707\n",
              "std           NaN  ...           808.158350\n",
              "min           NaN  ...             0.000000\n",
              "25%           NaN  ...           611.000000\n",
              "50%           NaN  ...          1250.000000\n",
              "75%           NaN  ...          2025.000000\n",
              "max           NaN  ...          2751.000000\n",
              "\n",
              "[11 rows x 7 columns]"
            ]
          },
          "metadata": {
            "tags": []
          },
          "execution_count": 857
        }
      ]
    },
    {
      "cell_type": "code",
      "metadata": {
        "id": "S040GC10rw3J"
      },
      "source": [
        "traindata['experience1'] = traindata['experience'].str.split('-').str[0]\n",
        "traindata['experience2'] = traindata['experience'].str.split('-').str[1].str.replace('yrs','')\n"
      ],
      "execution_count": null,
      "outputs": []
    },
    {
      "cell_type": "code",
      "metadata": {
        "id": "m-qCFzfsQ3RW"
      },
      "source": [
        "traindata['s1'] = traindata['salary'].str.split('to').str[0]\n",
        "traindata['s2'] = traindata['salary'].str.split('to').str[1]"
      ],
      "execution_count": null,
      "outputs": []
    },
    {
      "cell_type": "code",
      "metadata": {
        "id": "9_3iu7GUD8yd"
      },
      "source": [
        "traindata.drop(columns=['Unnamed: 0','salary','job_desig','key_skills','experience','job_description','job_type','location'],inplace=True)"
      ],
      "execution_count": null,
      "outputs": []
    },
    {
      "cell_type": "code",
      "metadata": {
        "colab": {
          "base_uri": "https://localhost:8080/",
          "height": 419
        },
        "id": "85iLcO1vEB1M",
        "outputId": "6e0d5083-8b03-4d1f-a4dc-e52bfce548b0"
      },
      "source": [
        "traindata"
      ],
      "execution_count": null,
      "outputs": [
        {
          "output_type": "execute_result",
          "data": {
            "text/html": [
              "<div>\n",
              "<style scoped>\n",
              "    .dataframe tbody tr th:only-of-type {\n",
              "        vertical-align: middle;\n",
              "    }\n",
              "\n",
              "    .dataframe tbody tr th {\n",
              "        vertical-align: top;\n",
              "    }\n",
              "\n",
              "    .dataframe thead th {\n",
              "        text-align: right;\n",
              "    }\n",
              "</style>\n",
              "<table border=\"1\" class=\"dataframe\">\n",
              "  <thead>\n",
              "    <tr style=\"text-align: right;\">\n",
              "      <th></th>\n",
              "      <th>company_name_encoded</th>\n",
              "      <th>experience1</th>\n",
              "      <th>experience2</th>\n",
              "      <th>s1</th>\n",
              "      <th>s2</th>\n",
              "    </tr>\n",
              "  </thead>\n",
              "  <tbody>\n",
              "    <tr>\n",
              "      <th>0</th>\n",
              "      <td>3687</td>\n",
              "      <td>5</td>\n",
              "      <td>7</td>\n",
              "      <td>6</td>\n",
              "      <td>10</td>\n",
              "    </tr>\n",
              "    <tr>\n",
              "      <th>1</th>\n",
              "      <td>458</td>\n",
              "      <td>10</td>\n",
              "      <td>17</td>\n",
              "      <td>10</td>\n",
              "      <td>15</td>\n",
              "    </tr>\n",
              "    <tr>\n",
              "      <th>2</th>\n",
              "      <td>4195</td>\n",
              "      <td>5</td>\n",
              "      <td>9</td>\n",
              "      <td>15</td>\n",
              "      <td>25</td>\n",
              "    </tr>\n",
              "    <tr>\n",
              "      <th>3</th>\n",
              "      <td>313</td>\n",
              "      <td>7</td>\n",
              "      <td>10</td>\n",
              "      <td>10</td>\n",
              "      <td>15</td>\n",
              "    </tr>\n",
              "    <tr>\n",
              "      <th>4</th>\n",
              "      <td>1305</td>\n",
              "      <td>1</td>\n",
              "      <td>3</td>\n",
              "      <td>3</td>\n",
              "      <td>6</td>\n",
              "    </tr>\n",
              "    <tr>\n",
              "      <th>...</th>\n",
              "      <td>...</td>\n",
              "      <td>...</td>\n",
              "      <td>...</td>\n",
              "      <td>...</td>\n",
              "      <td>...</td>\n",
              "    </tr>\n",
              "    <tr>\n",
              "      <th>19797</th>\n",
              "      <td>2245</td>\n",
              "      <td>12</td>\n",
              "      <td>18</td>\n",
              "      <td>15</td>\n",
              "      <td>25</td>\n",
              "    </tr>\n",
              "    <tr>\n",
              "      <th>19798</th>\n",
              "      <td>4966</td>\n",
              "      <td>0</td>\n",
              "      <td>3</td>\n",
              "      <td>0</td>\n",
              "      <td>3</td>\n",
              "    </tr>\n",
              "    <tr>\n",
              "      <th>19799</th>\n",
              "      <td>4272</td>\n",
              "      <td>8</td>\n",
              "      <td>13</td>\n",
              "      <td>15</td>\n",
              "      <td>25</td>\n",
              "    </tr>\n",
              "    <tr>\n",
              "      <th>19800</th>\n",
              "      <td>1793</td>\n",
              "      <td>1</td>\n",
              "      <td>3</td>\n",
              "      <td>10</td>\n",
              "      <td>15</td>\n",
              "    </tr>\n",
              "    <tr>\n",
              "      <th>19801</th>\n",
              "      <td>1349</td>\n",
              "      <td>2</td>\n",
              "      <td>5</td>\n",
              "      <td>10</td>\n",
              "      <td>15</td>\n",
              "    </tr>\n",
              "  </tbody>\n",
              "</table>\n",
              "<p>19802 rows × 5 columns</p>\n",
              "</div>"
            ],
            "text/plain": [
              "       company_name_encoded experience1 experience2  s1  s2\n",
              "0                      3687           5          7    6  10\n",
              "1                       458          10         17   10  15\n",
              "2                      4195           5          9   15  25\n",
              "3                       313           7         10   10  15\n",
              "4                      1305           1          3    3   6\n",
              "...                     ...         ...         ...  ..  ..\n",
              "19797                  2245          12         18   15  25\n",
              "19798                  4966           0          3    0   3\n",
              "19799                  4272           8         13   15  25\n",
              "19800                  1793           1          3   10  15\n",
              "19801                  1349           2          5   10  15\n",
              "\n",
              "[19802 rows x 5 columns]"
            ]
          },
          "metadata": {
            "tags": []
          },
          "execution_count": 861
        }
      ]
    },
    {
      "cell_type": "code",
      "metadata": {
        "id": "JhP1ixXzcFpK"
      },
      "source": [
        "traindata['company_name_encoded']=traindata['company_name_encoded'].astype('int64')\n",
        "traindata['experience1']=traindata['experience1'].astype('int64')\n",
        "traindata['experience2']=traindata['experience2'].astype('int64')\n",
        "traindata['s1']=traindata['s1'].astype('int64')\n",
        "traindata['s2']=traindata['s2'].astype('int64')"
      ],
      "execution_count": null,
      "outputs": []
    },
    {
      "cell_type": "code",
      "metadata": {
        "colab": {
          "base_uri": "https://localhost:8080/"
        },
        "id": "Rk4G_3XQX5K6",
        "outputId": "128fa7fc-41a0-4306-e704-29b1a3d68365"
      },
      "source": [
        "traindata.dtypes"
      ],
      "execution_count": null,
      "outputs": [
        {
          "output_type": "execute_result",
          "data": {
            "text/plain": [
              "company_name_encoded    int64\n",
              "experience1             int64\n",
              "experience2             int64\n",
              "s1                      int64\n",
              "s2                      int64\n",
              "dtype: object"
            ]
          },
          "metadata": {
            "tags": []
          },
          "execution_count": 863
        }
      ]
    },
    {
      "cell_type": "code",
      "metadata": {
        "id": "uuTV8303DnS0"
      },
      "source": [
        "testdata['experience1'] = testdata['experience'].str.split('-').str[0]\n",
        "testdata['experience2'] = testdata['experience'].str.split('-').str[1].str.replace('yrs','')\n"
      ],
      "execution_count": null,
      "outputs": []
    },
    {
      "cell_type": "code",
      "metadata": {
        "id": "X3VJOSHJVtnj"
      },
      "source": [
        "testdata.drop(columns=['experience','job_description','job_desig','job_type','key_skills','location'],inplace=True)"
      ],
      "execution_count": null,
      "outputs": []
    },
    {
      "cell_type": "code",
      "metadata": {
        "colab": {
          "base_uri": "https://localhost:8080/",
          "height": 419
        },
        "id": "ClXlSy8sFBDj",
        "outputId": "c86f5c4a-a3f7-49e0-e2fb-9d25fa36d6a0"
      },
      "source": [
        "testdata"
      ],
      "execution_count": null,
      "outputs": [
        {
          "output_type": "execute_result",
          "data": {
            "text/html": [
              "<div>\n",
              "<style scoped>\n",
              "    .dataframe tbody tr th:only-of-type {\n",
              "        vertical-align: middle;\n",
              "    }\n",
              "\n",
              "    .dataframe tbody tr th {\n",
              "        vertical-align: top;\n",
              "    }\n",
              "\n",
              "    .dataframe thead th {\n",
              "        text-align: right;\n",
              "    }\n",
              "</style>\n",
              "<table border=\"1\" class=\"dataframe\">\n",
              "  <thead>\n",
              "    <tr style=\"text-align: right;\">\n",
              "      <th></th>\n",
              "      <th>company_name_encoded</th>\n",
              "      <th>experience1</th>\n",
              "      <th>experience2</th>\n",
              "    </tr>\n",
              "  </thead>\n",
              "  <tbody>\n",
              "    <tr>\n",
              "      <th>0</th>\n",
              "      <td>2066</td>\n",
              "      <td>7</td>\n",
              "      <td>12</td>\n",
              "    </tr>\n",
              "    <tr>\n",
              "      <th>1</th>\n",
              "      <td>2629</td>\n",
              "      <td>0</td>\n",
              "      <td>5</td>\n",
              "    </tr>\n",
              "    <tr>\n",
              "      <th>2</th>\n",
              "      <td>2448</td>\n",
              "      <td>3</td>\n",
              "      <td>6</td>\n",
              "    </tr>\n",
              "    <tr>\n",
              "      <th>3</th>\n",
              "      <td>2711</td>\n",
              "      <td>0</td>\n",
              "      <td>3</td>\n",
              "    </tr>\n",
              "    <tr>\n",
              "      <th>4</th>\n",
              "      <td>40</td>\n",
              "      <td>0</td>\n",
              "      <td>5</td>\n",
              "    </tr>\n",
              "    <tr>\n",
              "      <th>...</th>\n",
              "      <td>...</td>\n",
              "      <td>...</td>\n",
              "      <td>...</td>\n",
              "    </tr>\n",
              "    <tr>\n",
              "      <th>6596</th>\n",
              "      <td>2692</td>\n",
              "      <td>4</td>\n",
              "      <td>7</td>\n",
              "    </tr>\n",
              "    <tr>\n",
              "      <th>6597</th>\n",
              "      <td>104</td>\n",
              "      <td>1</td>\n",
              "      <td>5</td>\n",
              "    </tr>\n",
              "    <tr>\n",
              "      <th>6598</th>\n",
              "      <td>2025</td>\n",
              "      <td>5</td>\n",
              "      <td>10</td>\n",
              "    </tr>\n",
              "    <tr>\n",
              "      <th>6599</th>\n",
              "      <td>2512</td>\n",
              "      <td>7</td>\n",
              "      <td>12</td>\n",
              "    </tr>\n",
              "    <tr>\n",
              "      <th>6600</th>\n",
              "      <td>464</td>\n",
              "      <td>3</td>\n",
              "      <td>8</td>\n",
              "    </tr>\n",
              "  </tbody>\n",
              "</table>\n",
              "<p>6601 rows × 3 columns</p>\n",
              "</div>"
            ],
            "text/plain": [
              "      company_name_encoded experience1 experience2\n",
              "0                     2066           7         12 \n",
              "1                     2629           0          5 \n",
              "2                     2448           3          6 \n",
              "3                     2711           0          3 \n",
              "4                       40           0          5 \n",
              "...                    ...         ...         ...\n",
              "6596                  2692           4          7 \n",
              "6597                   104           1          5 \n",
              "6598                  2025           5         10 \n",
              "6599                  2512           7         12 \n",
              "6600                   464           3          8 \n",
              "\n",
              "[6601 rows x 3 columns]"
            ]
          },
          "metadata": {
            "tags": []
          },
          "execution_count": 866
        }
      ]
    },
    {
      "cell_type": "markdown",
      "metadata": {
        "id": "9tbKEWlATCju"
      },
      "source": [
        "#Splitting the data"
      ]
    },
    {
      "cell_type": "code",
      "metadata": {
        "id": "HK5R10EeTLg1"
      },
      "source": [
        "from sklearn.model_selection import train_test_split\n",
        "array = traindata.values\n",
        "X = array[:, 0:5]\n",
        "\n",
        "Y = array[:, 4]\n",
        "\n",
        "x_train, x_valid, y_train, y_valid = train_test_split(X, Y, test_size=0.20, random_state=1)\n"
      ],
      "execution_count": null,
      "outputs": []
    },
    {
      "cell_type": "markdown",
      "metadata": {
        "id": "mONzEfXegfYC"
      },
      "source": [
        "#Build the model"
      ]
    },
    {
      "cell_type": "markdown",
      "metadata": {
        "id": "qT6crMWmglSL"
      },
      "source": [
        "Logistic Regression"
      ]
    },
    {
      "cell_type": "code",
      "metadata": {
        "colab": {
          "base_uri": "https://localhost:8080/"
        },
        "id": "1GovscDHXmdr",
        "outputId": "f608789c-70c2-4ded-9be7-8148de0a5b32"
      },
      "source": [
        "from sklearn.linear_model import LogisticRegression\n",
        "\n",
        "model = LogisticRegression()\n",
        "\n",
        "model.fit(x_train, y_train)"
      ],
      "execution_count": null,
      "outputs": [
        {
          "output_type": "execute_result",
          "data": {
            "text/plain": [
              "LogisticRegression(C=1.0, class_weight=None, dual=False, fit_intercept=True,\n",
              "                   intercept_scaling=1, l1_ratio=None, max_iter=100,\n",
              "                   multi_class='auto', n_jobs=None, penalty='l2',\n",
              "                   random_state=None, solver='lbfgs', tol=0.0001, verbose=0,\n",
              "                   warm_start=False)"
            ]
          },
          "metadata": {
            "tags": []
          },
          "execution_count": 868
        }
      ]
    },
    {
      "cell_type": "code",
      "metadata": {
        "id": "_X13r26Kd3Sh"
      },
      "source": [
        "predictions = model.predict(x_valid)"
      ],
      "execution_count": null,
      "outputs": []
    },
    {
      "cell_type": "code",
      "metadata": {
        "colab": {
          "base_uri": "https://localhost:8080/"
        },
        "id": "oEv52WRqgDTP",
        "outputId": "0cc6c9b7-4755-44f8-aea1-5d4e08dd4c61"
      },
      "source": [
        "from sklearn.metrics import mean_absolute_error\n",
        "\n",
        "error= mean_absolute_error(y_valid, predictions)\n",
        "error"
      ],
      "execution_count": null,
      "outputs": [
        {
          "output_type": "execute_result",
          "data": {
            "text/plain": [
              "5.275687957586468"
            ]
          },
          "metadata": {
            "tags": []
          },
          "execution_count": 870
        }
      ]
    },
    {
      "cell_type": "code",
      "metadata": {
        "colab": {
          "base_uri": "https://localhost:8080/"
        },
        "id": "gew8HQ4KgvtL",
        "outputId": "a61ec016-944a-493e-b149-0e373f9a4760"
      },
      "source": [
        "accuracy = model.score(x_valid, y_valid)\n",
        "accuracy*100"
      ],
      "execution_count": null,
      "outputs": [
        {
          "output_type": "execute_result",
          "data": {
            "text/plain": [
              "49.83590002524615"
            ]
          },
          "metadata": {
            "tags": []
          },
          "execution_count": 871
        }
      ]
    },
    {
      "cell_type": "markdown",
      "metadata": {
        "id": "Vw2ORCVLhFFK"
      },
      "source": [
        "K-Fold Cross validition"
      ]
    },
    {
      "cell_type": "code",
      "metadata": {
        "colab": {
          "base_uri": "https://localhost:8080/"
        },
        "id": "UFuFS3ylhPNA",
        "outputId": "c71f0124-cb60-4f9c-c702-9947a6762351"
      },
      "source": [
        "\n",
        "from sklearn.model_selection import KFold\n",
        "from sklearn.model_selection import cross_val_score\n",
        "\n",
        "# Test options and evaluation metric\n",
        "num_folds = 10\n",
        "seed = 7\n",
        "scoring = 'accuracy'\n",
        "\n",
        "kfold = KFold(n_splits=num_folds, random_state=seed)\n",
        "cv_results = cross_val_score(model, x_train, y_train, scoring=scoring, cv=kfold)\n",
        "msg = '%f (%f)'%(cv_results.mean(), cv_results.std())\n",
        "print(msg)"
      ],
      "execution_count": null,
      "outputs": [
        {
          "output_type": "stream",
          "text": [
            "0.485829 (0.007398)\n"
          ],
          "name": "stdout"
        }
      ]
    },
    {
      "cell_type": "markdown",
      "metadata": {
        "id": "qVBvFrMKhzE3"
      },
      "source": [
        "SVM"
      ]
    },
    {
      "cell_type": "code",
      "metadata": {
        "colab": {
          "base_uri": "https://localhost:8080/"
        },
        "id": "Mck2G0W6h03X",
        "outputId": "a1594019-78ec-4666-f281-3c46f7ffc8cf"
      },
      "source": [
        "from sklearn.svm import SVC\n",
        "\n",
        "model2 = SVC()\n",
        "model2.fit(x_train, y_train)"
      ],
      "execution_count": null,
      "outputs": [
        {
          "output_type": "execute_result",
          "data": {
            "text/plain": [
              "SVC(C=1.0, break_ties=False, cache_size=200, class_weight=None, coef0=0.0,\n",
              "    decision_function_shape='ovr', degree=3, gamma='scale', kernel='rbf',\n",
              "    max_iter=-1, probability=False, random_state=None, shrinking=True,\n",
              "    tol=0.001, verbose=False)"
            ]
          },
          "metadata": {
            "tags": []
          },
          "execution_count": 877
        }
      ]
    },
    {
      "cell_type": "code",
      "metadata": {
        "colab": {
          "base_uri": "https://localhost:8080/"
        },
        "id": "I4QOp93sh7wY",
        "outputId": "96c1a45e-d7d3-466b-be0a-3220c961822d"
      },
      "source": [
        "predictions2=model2.predict(x_valid)"
      ],
      "execution_count": null,
      "outputs": [
        {
          "output_type": "execute_result",
          "data": {
            "text/plain": [
              "array([15, 25, 25, ...,  3, 15, 10])"
            ]
          },
          "metadata": {
            "tags": []
          },
          "execution_count": 874
        }
      ]
    }
  ]
}